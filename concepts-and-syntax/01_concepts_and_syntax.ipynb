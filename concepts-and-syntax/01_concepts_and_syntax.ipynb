{
 "cells": [
  {
   "cell_type": "markdown",
   "id": "17e3fd79",
   "metadata": {},
   "source": [
    "# Syntax & Concepts: Custom Functions\n",
    "\n",
    "### Before Class:\n",
    "\n",
    "1. **Read this notebook and attempt each 'You Try' section.**\n",
    "    - Need help? Check the AI tips or your textbook.\n",
    "\n",
    "2. **Complete at least one practice problem from this chapter.**\n",
    "    - Problems are ordered from easiest to hardest.\n",
    "    - Stuck? Copy and paste the instructions and AI prompt into your preferred AI service for guided help.\n",
    "\n",
    "3. **Submit your attempted practice problem code in the 'Class Prep Report' on Learning Suite for credit.**\n",
    "\n",
    "#### Need more explanation? Copy and paste this AI prompt along with any code you have questions about:\n",
    "(Double-click the text below, then copy and paste it into your AI service.)\n",
    "\n",
    "```\n",
    "I am new to Python and just starting to learn coding. I need simple, clear explanations. When I ask a question or show my code, act like my personal tutor: correct mistakes gently, clarify misconceptions, and use easy-to-follow language. Feel free to use examples or metaphors to help me understand. Let me know when I'm doing well or what I need to adjust.\n",
    "```"
   ]
  },
  {
   "cell_type": "markdown",
   "id": "a18f0a29",
   "metadata": {},
   "source": [
    "### Chapter Summary\n",
    "In this chapter, you'll learn how to create your own Python functions using parameters, default parameters, and return statements. You'll also learn about variable scope (global vs. local), which helps you manage your variables effectively."
   ]
  },
  {
   "cell_type": "markdown",
   "id": "a9b424d5",
   "metadata": {},
   "source": [
    "## 1: Defining a Simple Function\n",
    "A simple function is defined using the `def` keyword. You \"call\" a function afterwords by typing the function name with parentheses."
   ]
  },
  {
   "cell_type": "code",
   "execution_count": 1,
   "id": "75fe1437",
   "metadata": {},
   "outputs": [
    {
     "name": "stdout",
     "output_type": "stream",
     "text": [
      "Hello, World!\n"
     ]
    }
   ],
   "source": [
    "def greet():\n",
    "    print(\"Hello, World!\")\n",
    "\n",
    "greet()"
   ]
  },
  {
   "cell_type": "markdown",
   "id": "d7576072",
   "metadata": {},
   "source": [
    "### 1.p: You Try\n",
    "Create a simple function named `announce()` that prints \"Today's meeting will start at 3 PM.\" Then call your function."
   ]
  },
  {
   "cell_type": "code",
   "execution_count": 2,
   "id": "41782738",
   "metadata": {},
   "outputs": [
    {
     "name": "stdout",
     "output_type": "stream",
     "text": [
      "Today's meeting will start at 3pm.\n"
     ]
    }
   ],
   "source": [
    "# Your code here\n",
    "def announce():\n",
    "    print(\"Today's meeting will start at 3pm.\")\n",
    "\n",
    "announce()"
   ]
  },
  {
   "cell_type": "markdown",
   "id": "346cb389",
   "metadata": {},
   "source": [
    "## 2: Function with Parameters\n",
    "Parameters allow you to pass data into a function."
   ]
  },
  {
   "cell_type": "code",
   "execution_count": null,
   "id": "9d9fe1c2",
   "metadata": {},
   "outputs": [],
   "source": [
    "def greet_person(name):\n",
    "    print(f\"Hello, {name}!\")\n",
    "\n",
    "greet_person(\"Alice\")"
   ]
  },
  {
   "cell_type": "markdown",
   "id": "f9de9318",
   "metadata": {},
   "source": [
    "### 2.p: You Try\n",
    "Write a function called `goodbye(name)` that prints a goodbye message to the specified person."
   ]
  },
  {
   "cell_type": "code",
   "execution_count": 4,
   "id": "e0169a41",
   "metadata": {},
   "outputs": [
    {
     "name": "stdout",
     "output_type": "stream",
     "text": [
      "Goodbye Earl!\n"
     ]
    }
   ],
   "source": [
    "# Your code here\n",
    "def goodbye(name):\n",
    "    print(f\"Goodbye {name}!\")\n",
    "goodbye(\"Earl\")"
   ]
  },
  {
   "cell_type": "markdown",
   "id": "874107bf",
   "metadata": {},
   "source": [
    "## 3: Functions with Return\n",
    "Functions can return values using the `return` statement."
   ]
  },
  {
   "cell_type": "code",
   "execution_count": 6,
   "id": "68327a2d",
   "metadata": {},
   "outputs": [
    {
     "name": "stdout",
     "output_type": "stream",
     "text": [
      "8\n"
     ]
    }
   ],
   "source": [
    "def add(a, b):\n",
    "    return a + b\n",
    "\n",
    "sum = add(5, 3)\n",
    "print(sum)"
   ]
  },
  {
   "cell_type": "markdown",
   "id": "5c21b7c5",
   "metadata": {},
   "source": [
    "### 3.p: You Try\n",
    "Create a function `multiply(a, b)` that returns the product of two numbers."
   ]
  },
  {
   "cell_type": "code",
   "execution_count": 7,
   "id": "600aee4f",
   "metadata": {},
   "outputs": [
    {
     "name": "stdout",
     "output_type": "stream",
     "text": [
      "20\n"
     ]
    }
   ],
   "source": [
    "# Your code here\n",
    "def multiply(a, b):\n",
    "    return a * b\n",
    "\n",
    "sum = multiply(4, 5)\n",
    "print(sum)"
   ]
  },
  {
   "cell_type": "markdown",
   "id": "504e752a",
   "metadata": {},
   "source": [
    "## 4: Functions with Default Parameters\n",
    "Default parameters have predefined values if none are provided."
   ]
  },
  {
   "cell_type": "code",
   "execution_count": 8,
   "id": "c6246bf8",
   "metadata": {},
   "outputs": [
    {
     "name": "stdout",
     "output_type": "stream",
     "text": [
      "Hi, Tom!\n",
      "Welcome, Lucy!\n"
     ]
    }
   ],
   "source": [
    "def introduce(name, greeting=\"Hi\"):\n",
    "    print(f\"{greeting}, {name}!\")\n",
    "\n",
    "introduce(\"Tom\")\n",
    "introduce(\"Lucy\", \"Welcome\")"
   ]
  },
  {
   "cell_type": "markdown",
   "id": "cb9e6846",
   "metadata": {},
   "source": [
    "### 4.p: You Try\n",
    "Write a function `order_drink(drink=\"soda\")` that announces an order. Call it once with and once without specifying a drink."
   ]
  },
  {
   "cell_type": "code",
   "execution_count": 15,
   "id": "ea3469c8",
   "metadata": {},
   "outputs": [
    {
     "name": "stdout",
     "output_type": "stream",
     "text": [
      "you ordered a lemonade\n",
      "you ordered a soda\n"
     ]
    }
   ],
   "source": [
    "# Your code here\n",
    "def order_drink(drink=\"soda\"):\n",
    "    print(f\"you ordered a {drink}\")\n",
    "\n",
    "order_drink(\"lemonade\")\n",
    "order_drink()"
   ]
  },
  {
   "cell_type": "markdown",
   "id": "498c9a68",
   "metadata": {},
   "source": [
    "## 5: Global vs. Local Scope\n",
    "Global variables can be accessed everywhere, while local variables are limited to their function."
   ]
  },
  {
   "cell_type": "code",
   "execution_count": 21,
   "id": "1690dd6e",
   "metadata": {},
   "outputs": [
    {
     "name": "stdout",
     "output_type": "stream",
     "text": [
      "Cart total inside function: 5.5\n",
      "Total outside function: 20.0\n"
     ]
    }
   ],
   "source": [
    "total = 20.00  # global variable (made outside a function)\n",
    "\n",
    "def checkout_cart():\n",
    "    total = 0  # local variable (made inside the function)\n",
    "    total += 3.50  # add price of item\n",
    "    total += 2.00  # add price of another item\n",
    "    print(\"Cart total inside function:\", total)\n",
    "\n",
    "# Try calling checkout_cart\n",
    "# Try to predict: what will print out when you run it?\n",
    "checkout_cart()\n",
    "\n",
    "# Now print out total. Will its value change?\n",
    "print(\"Total outside function:\", total)"
   ]
  },
  {
   "cell_type": "markdown",
   "id": "d197560e",
   "metadata": {},
   "source": [
    "### 5.p: You Try\n",
    "Create a global variable `count` set to 10. Write a function `increase_count(count)` that adds 5 to the `count` you pass in and prints it. Then print out the original `count` variable.\n",
    "\n",
    "Notice that local variables, even if they have the same name, don't affect the global variable."
   ]
  },
  {
   "cell_type": "code",
   "execution_count": 28,
   "id": "931f0ce5",
   "metadata": {},
   "outputs": [
    {
     "name": "stdout",
     "output_type": "stream",
     "text": [
      "15\n",
      "Original count:  10\n"
     ]
    }
   ],
   "source": [
    "# Your code here\n",
    "count = 10\n",
    "\n",
    "def increase_count():\n",
    "    count = 10\n",
    "    count += 5\n",
    "    print(count)\n",
    "\n",
    "increase_count()\n",
    "\n",
    "print(\"Original count: \", count)"
   ]
  },
  {
   "cell_type": "markdown",
   "id": "3abb5c73",
   "metadata": {},
   "source": [
    "## Want to Learn More?\n",
    "If you'd like extra help or more details, you can:\n",
    "- **Ask AI**: Use the suggested questions in the `review_with_ai` file.\n",
    "- **Read your textbook**: Check the reading guide on Learning Suite beforehand.\n",
    "- **Review class practice files**: They contain more detailed examples and explanations, available on Learning Suite."
   ]
  }
 ],
 "metadata": {
  "kernelspec": {
   "display_name": "Python 3",
   "language": "python",
   "name": "python3"
  },
  "language_info": {
   "codemirror_mode": {
    "name": "ipython",
    "version": 3
   },
   "file_extension": ".py",
   "mimetype": "text/x-python",
   "name": "python",
   "nbconvert_exporter": "python",
   "pygments_lexer": "ipython3",
   "version": "3.13.7"
  }
 },
 "nbformat": 4,
 "nbformat_minor": 5
}
